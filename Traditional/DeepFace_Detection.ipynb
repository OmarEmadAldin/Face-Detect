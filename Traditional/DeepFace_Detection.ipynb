{
 "cells": [
  {
   "cell_type": "markdown",
   "metadata": {},
   "source": [
    "# Import important packages"
   ]
  },
  {
   "cell_type": "code",
   "execution_count": 6,
   "metadata": {},
   "outputs": [],
   "source": [
    "import cv2\n",
    "import time\n",
    "import numpy as np\n",
    "import matplotlib.pyplot as plt \n",
    "from deepface import DeepFace\n"
   ]
  },
  {
   "cell_type": "markdown",
   "metadata": {},
   "source": [
    "Check Versions to make sure of comptability"
   ]
  },
  {
   "cell_type": "code",
   "execution_count": null,
   "metadata": {},
   "outputs": [],
   "source": [
    "import sys\n",
    "\n",
    "# Print the Python version\n",
    "print(sys.version)\n"
   ]
  },
  {
   "cell_type": "code",
   "execution_count": null,
   "metadata": {},
   "outputs": [],
   "source": [
    "import deepface\n",
    "\n",
    "# Print the version of DeepFace\n",
    "print(deepface.__version__)\n"
   ]
  },
  {
   "cell_type": "code",
   "execution_count": null,
   "metadata": {},
   "outputs": [],
   "source": [
    "import tensorflow as tf\n",
    "\n",
    "# Print the version of TensorFlow\n",
    "print(tf.__version__)\n"
   ]
  },
  {
   "cell_type": "code",
   "execution_count": null,
   "metadata": {},
   "outputs": [],
   "source": [
    "import cv2\n",
    "\n",
    "# Get the version of OpenCV\n",
    "opencv_version = cv2.__version__\n",
    "print(f\"OpenCV version: {opencv_version}\")\n"
   ]
  },
  {
   "cell_type": "code",
   "execution_count": null,
   "metadata": {},
   "outputs": [],
   "source": [
    "from mtcnn import MTCNN\n",
    "import pkg_resources\n",
    "\n",
    "# Get the version of MTCNN\n",
    "mtcnn_version = pkg_resources.get_distribution(\"mtcnn\").version\n",
    "print(f\"MTCNN version: {mtcnn_version}\")\n"
   ]
  },
  {
   "cell_type": "markdown",
   "metadata": {},
   "source": [
    "Check the path is right"
   ]
  },
  {
   "cell_type": "code",
   "execution_count": null,
   "metadata": {},
   "outputs": [],
   "source": [
    "import os\n",
    "\n",
    "def check_path(path):\n",
    "    if os.path.exists(path):\n",
    "        print(\"The path is correct!\")\n",
    "    else:\n",
    "        print(\"The path is incorrect.\")\n",
    "\n",
    "# Example usage\n",
    "path_to_check = r\"F:\\Omar 3amora\\Face Detection\\test1.jpg\"\n",
    "check_path(path_to_check)\n"
   ]
  },
  {
   "cell_type": "markdown",
   "metadata": {},
   "source": [
    "Time Function to test"
   ]
  },
  {
   "cell_type": "code",
   "execution_count": null,
   "metadata": {},
   "outputs": [],
   "source": [
    "def delayed_message():\n",
    "    print(\"Waiting for 5 seconds...\")\n",
    "    time.sleep(5)  # Pauses the program for 5 seconds\n",
    "    print(\"5 seconds have passed!\")\n",
    "\n",
    "# Example usage\n",
    "delayed_message()"
   ]
  },
  {
   "cell_type": "markdown",
   "metadata": {},
   "source": [
    "# List list of different architectures"
   ]
  },
  {
   "cell_type": "code",
   "execution_count": 5,
   "metadata": {},
   "outputs": [],
   "source": [
    "# List of available backends, models, and distance metrics\n",
    "backends = [\"opencv\", \"ssd\", \"dlib\", \"mtcnn\", \"retinaface\"]\n",
    "models = [\"VGG-Face\", \"Facenet\", \"Facenet512\", \"OpenFace\", \"DeepFace\", \"DeepID\", \"ArcFace\", \"Dlib\", \"SFace\"]\n",
    "metrics = [\"cosine\", \"euclidean\", \"euclidean_l2\"]"
   ]
  },
  {
   "cell_type": "code",
   "execution_count": null,
   "metadata": {},
   "outputs": [],
   "source": [
    "\n",
    "def detect_faces_image(image_path):\n",
    "    # Read the image\n",
    "    image = cv2.imread(image_path)\n",
    "    \n",
    "    # Check if the image was loaded successfully\n",
    "    if image is None:\n",
    "        print(f\"Error: Could not load image from path: {image_path}\")\n",
    "        return None\n",
    "    \n",
    "    # Specify MTCNN as the detector backend (FaceNet weights are used here)\n",
    "    backend = 'mtcnn'  # Using MTCNN backend which utilizes FaceNet weights\n",
    "    \n",
    "    try:\n",
    "        # Analyze the image and detect faces\n",
    "        analysis = DeepFace.analyze(image_path, detector_backend=backend, enforce_detection=False)\n",
    "        \n",
    "        detection_boxes = []  # List to store detection boxes\n",
    "        \n",
    "        # Check if there are any detections\n",
    "        if isinstance(analysis, list):  # If multiple faces are detected\n",
    "            for face in analysis:\n",
    "                x, y, w, h = face['region']['x'], face['region']['y'], face['region']['w'], face['region']['h']\n",
    "                detection_boxes.append((x, y, w, h))\n",
    "                cv2.rectangle(image, (x, y), (x+w, y+h), (255, 0, 0), 2)\n",
    "        else:  # If only one face is detected\n",
    "            x, y, w, h = analysis['region']['x'], analysis['region']['y'], analysis['region']['w'], analysis['region']['h']\n",
    "            detection_boxes.append((x, y, w, h))\n",
    "            cv2.rectangle(image, (x, y), (x+w, y+h), (255, 0, 0), 2)\n",
    "    \n",
    "    except Exception as e:\n",
    "        print(f\"Error during face detection: {e}\")\n",
    "        return None\n",
    "    \n",
    "    # Display the result\n",
    "    cv2.imshow(\"Detected Faces\", image)\n",
    "    cv2.waitKey(0)\n",
    "    cv2.destroyAllWindows()\n",
    "    \n",
    "    return detection_boxes\n",
    "\n",
    "# Example usage\n",
    "boxes = detect_faces_image(\"test1.jpg\")\n",
    "if boxes is not None:\n",
    "    print(\"Detected boxes:\", boxes)"
   ]
  },
  {
   "cell_type": "markdown",
   "metadata": {},
   "source": [
    "# Face Detection with MTCNN"
   ]
  },
  {
   "cell_type": "code",
   "execution_count": null,
   "metadata": {},
   "outputs": [],
   "source": [
    "from mtcnn import MTCNN\n",
    "import cv2\n",
    "\n",
    "def detect_faces_mtcnn(image_path):\n",
    "    # Load MTCNN\n",
    "    detector = MTCNN()\n",
    "    \n",
    "    # Read the image\n",
    "    image = cv2.imread(image_path)\n",
    "    \n",
    "    # Convert to RGB (MTCNN expects RGB images)\n",
    "    rgb_image = cv2.cvtColor(image, cv2.COLOR_BGR2RGB)\n",
    "    \n",
    "    # Detect faces\n",
    "    detections = detector.detect_faces(rgb_image)\n",
    "    \n",
    "    # Draw rectangles around faces\n",
    "    for detection in detections:\n",
    "        x, y, w, h = detection['box']\n",
    "        cv2.rectangle(image, (x, y), (x+w, y+h), (255, 0, 0), 2)\n",
    "    \n",
    "    # Display the result using matplotlib\n",
    "    plt.imshow(image)\n",
    "    plt.title(\"Detected Faces\")\n",
    "    plt.axis('off')  # Hide axes\n",
    "    plt.show()\n",
    "\n",
    "# Example usage\n",
    "detect_faces_mtcnn(\"test2.jpg\")\n"
   ]
  },
  {
   "cell_type": "code",
   "execution_count": null,
   "metadata": {},
   "outputs": [],
   "source": [
    "def detect_faces_mtcnn_in_stream():\n",
    "    # Load MTCNN\n",
    "    detector = MTCNN()\n",
    "    \n",
    "    # Open video capture (0 for default camera, or provide video file path)\n",
    "    cap = cv2.VideoCapture(0)\n",
    "    \n",
    "    if not cap.isOpened():\n",
    "        print(\"Error: Could not open video capture.\")\n",
    "        return\n",
    "    \n",
    "    while True:\n",
    "        # Capture frame-by-frame\n",
    "        ret, frame = cap.read()\n",
    "        if not ret:\n",
    "            break\n",
    "        \n",
    "        # Convert to RGB (MTCNN expects RGB images)\n",
    "        rgb_image = cv2.cvtColor(frame, cv2.COLOR_BGR2RGB)\n",
    "        \n",
    "        # Detect faces\n",
    "        detections = detector.detect_faces(rgb_image)\n",
    "        \n",
    "        # Draw rectangles around faces\n",
    "        for detection in detections:\n",
    "            x, y, w, h = detection['box']\n",
    "            cv2.rectangle(frame, (x, y), (x+w, y+h), (255, 0, 0), 2)\n",
    "        \n",
    "        # Display the resulting frame\n",
    "        cv2.imshow(\"Detected Faces\", frame)\n",
    "        \n",
    "        # Break the loop on 'q' key press\n",
    "        if cv2.waitKey(1) & 0xFF == ord('q'):\n",
    "            break\n",
    "    \n",
    "    # When everything is done, release the capture and close windows\n",
    "    cap.release()\n",
    "    cv2.destroyAllWindows()\n",
    "\n",
    "# Example usage\n",
    "detect_faces_mtcnn_in_stream()\n"
   ]
  }
 ],
 "metadata": {
  "kernelspec": {
   "display_name": "Python 3",
   "language": "python",
   "name": "python3"
  },
  "language_info": {
   "codemirror_mode": {
    "name": "ipython",
    "version": 3
   },
   "file_extension": ".py",
   "mimetype": "text/x-python",
   "name": "python",
   "nbconvert_exporter": "python",
   "pygments_lexer": "ipython3",
   "version": "3.8.10"
  }
 },
 "nbformat": 4,
 "nbformat_minor": 2
}
